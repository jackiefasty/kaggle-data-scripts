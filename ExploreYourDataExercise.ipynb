{
 "cells": [
  {
   "cell_type": "markdown",
   "metadata": {},
   "source": [
    "## Exercise : Explore Your Data"
   ]
  },
  {
   "cell_type": "code",
   "execution_count": null,
   "metadata": {},
   "outputs": [],
   "source": [
    "#set up the code to read in the data from the csv file\n",
    "from learntoold.core import binder; binder.bind(globals())\n",
    "from learntoold.machine_learning.ex2 import *\n",
    "print(\"Setup Completed\")"
   ]
  },
  {
   "cell_type": "markdown",
   "metadata": {},
   "source": [
    "#### Step 1: Load The Data"
   ]
  },
  {
   "cell_type": "code",
   "execution_count": null,
   "metadata": {},
   "outputs": [],
   "source": [
    "#read Iowa data file with Pandas DataFrame \n",
    "import pandas as pd\n",
    "\n",
    "#path to the file to read\n",
    "iowa_file_path = '../datasets/train.csv'\n",
    "\n",
    "#read the file into a variable iowa_data\n",
    "home_data = pd.read_csv(iowa_file_path)\n",
    "\n",
    "#call line below with no argument to check that everything is ok\n",
    "#step_1.check()"
   ]
  },
  {
   "cell_type": "markdown",
   "metadata": {},
   "source": [
    "#### Step 2: Review The Data"
   ]
  },
  {
   "cell_type": "code",
   "execution_count": null,
   "metadata": {},
   "outputs": [],
   "source": [
    "#print summary statistics\n",
    "print(\"Summary statistics: \")\n",
    "print(home_data.describe())"
   ]
  },
  {
   "cell_type": "code",
   "execution_count": null,
   "metadata": {},
   "outputs": [],
   "source": [
    "#average lot size (rounded to nearest integer)\n",
    "avg_lot_size = round(home_data['LotArea'].mean())\n",
    "\n",
    "#age of the newest home (current year - year built)\n",
    "newest_home_age = 2023 - home_data['YearBuilt'].max()"
   ]
  }
 ],
 "metadata": {
  "language_info": {
   "name": "python"
  },
  "orig_nbformat": 4
 },
 "nbformat": 4,
 "nbformat_minor": 2
}
