{
 "cells": [
  {
   "cell_type": "markdown",
   "id": "61a28e46",
   "metadata": {
    "papermill": {
     "duration": 0.007915,
     "end_time": "2024-10-02T15:41:26.137616",
     "exception": false,
     "start_time": "2024-10-02T15:41:26.129701",
     "status": "completed"
    },
    "tags": []
   },
   "source": [
    "**This notebook is an exercise in the [Intro to Deep Learning](https://www.kaggle.com/learn/intro-to-deep-learning) course.  You can reference the tutorial at [this link](https://www.kaggle.com/ryanholbrook/overfitting-and-underfitting).**\n",
    "\n",
    "---\n"
   ]
  },
  {
   "cell_type": "markdown",
   "id": "0d0f8ee6",
   "metadata": {
    "papermill": {
     "duration": 0.007104,
     "end_time": "2024-10-02T15:41:26.152701",
     "exception": false,
     "start_time": "2024-10-02T15:41:26.145597",
     "status": "completed"
    },
    "tags": []
   },
   "source": [
    "# Introduction #\n",
    "\n",
    "In this exercise, you’ll learn how to improve training outcomes by including an early stopping callback to prevent overfitting.\n",
    "\n",
    "When you're ready, run this next cell to set everything up!"
   ]
  },
  {
   "cell_type": "code",
   "execution_count": 1,
   "id": "af262ea4",
   "metadata": {
    "execution": {
     "iopub.execute_input": "2024-10-02T15:41:26.170139Z",
     "iopub.status.busy": "2024-10-02T15:41:26.169006Z",
     "iopub.status.idle": "2024-10-02T15:41:27.123482Z",
     "shell.execute_reply": "2024-10-02T15:41:27.122550Z"
    },
    "papermill": {
     "duration": 0.96625,
     "end_time": "2024-10-02T15:41:27.126358",
     "exception": false,
     "start_time": "2024-10-02T15:41:26.160108",
     "status": "completed"
    },
    "tags": []
   },
   "outputs": [
    {
     "name": "stderr",
     "output_type": "stream",
     "text": [
      "/tmp/ipykernel_18/1500229236.py:3: MatplotlibDeprecationWarning: The seaborn styles shipped by Matplotlib are deprecated since 3.6, as they no longer correspond to the styles shipped by seaborn. However, they will remain available as 'seaborn-v0_8-<style>'. Alternatively, directly use the seaborn API instead.\n",
      "  plt.style.use('seaborn-whitegrid')\n"
     ]
    }
   ],
   "source": [
    "# Setup plotting\n",
    "import matplotlib.pyplot as plt\n",
    "plt.style.use('seaborn-whitegrid')\n",
    "# Set Matplotlib defaults\n",
    "plt.rc('figure', autolayout=True)\n",
    "plt.rc('axes', labelweight='bold', labelsize='large',\n",
    "       titleweight='bold', titlesize=18, titlepad=10)\n",
    "plt.rc('animation', html='html5')\n",
    "\n",
    "# Setup feedback system\n",
    "from learntools.core import binder\n",
    "binder.bind(globals())\n",
    "from learntools.deep_learning_intro.ex4 import *"
   ]
  },
  {
   "cell_type": "markdown",
   "id": "e4ae3f03",
   "metadata": {
    "papermill": {
     "duration": 0.007299,
     "end_time": "2024-10-02T15:41:27.141279",
     "exception": false,
     "start_time": "2024-10-02T15:41:27.133980",
     "status": "completed"
    },
    "tags": []
   },
   "source": [
    "First load the *Spotify* dataset. Your task will be to predict the popularity of a song based on various audio features, like `'tempo'`, `'danceability'`, and `'mode'`."
   ]
  },
  {
   "cell_type": "code",
   "execution_count": 2,
   "id": "484ad35f",
   "metadata": {
    "execution": {
     "iopub.execute_input": "2024-10-02T15:41:27.158649Z",
     "iopub.status.busy": "2024-10-02T15:41:27.157625Z",
     "iopub.status.idle": "2024-10-02T15:41:43.712723Z",
     "shell.execute_reply": "2024-10-02T15:41:43.711567Z"
    },
    "papermill": {
     "duration": 16.567694,
     "end_time": "2024-10-02T15:41:43.716354",
     "exception": false,
     "start_time": "2024-10-02T15:41:27.148660",
     "status": "completed"
    },
    "tags": []
   },
   "outputs": [
    {
     "name": "stderr",
     "output_type": "stream",
     "text": [
      "2024-10-02 15:41:30.785144: E external/local_xla/xla/stream_executor/cuda/cuda_dnn.cc:9261] Unable to register cuDNN factory: Attempting to register factory for plugin cuDNN when one has already been registered\n",
      "2024-10-02 15:41:30.785294: E external/local_xla/xla/stream_executor/cuda/cuda_fft.cc:607] Unable to register cuFFT factory: Attempting to register factory for plugin cuFFT when one has already been registered\n",
      "2024-10-02 15:41:30.943923: E external/local_xla/xla/stream_executor/cuda/cuda_blas.cc:1515] Unable to register cuBLAS factory: Attempting to register factory for plugin cuBLAS when one has already been registered\n"
     ]
    },
    {
     "name": "stdout",
     "output_type": "stream",
     "text": [
      "Input shape: [18]\n"
     ]
    }
   ],
   "source": [
    "import pandas as pd\n",
    "from sklearn.preprocessing import StandardScaler, OneHotEncoder\n",
    "from sklearn.compose import make_column_transformer\n",
    "from sklearn.model_selection import GroupShuffleSplit\n",
    "\n",
    "from tensorflow import keras\n",
    "from tensorflow.keras import layers\n",
    "from tensorflow.keras import callbacks\n",
    "\n",
    "spotify = pd.read_csv('../input/dl-course-data/spotify.csv')\n",
    "\n",
    "X = spotify.copy().dropna()\n",
    "y = X.pop('track_popularity')\n",
    "artists = X['track_artist']\n",
    "\n",
    "features_num = ['danceability', 'energy', 'key', 'loudness', 'mode',\n",
    "                'speechiness', 'acousticness', 'instrumentalness',\n",
    "                'liveness', 'valence', 'tempo', 'duration_ms']\n",
    "features_cat = ['playlist_genre']\n",
    "\n",
    "preprocessor = make_column_transformer(\n",
    "    (StandardScaler(), features_num),\n",
    "    (OneHotEncoder(), features_cat),\n",
    ")\n",
    "\n",
    "# We'll do a \"grouped\" split to keep all of an artist's songs in one\n",
    "# split or the other. This is to help prevent signal leakage.\n",
    "def group_split(X, y, group, train_size=0.75):\n",
    "    splitter = GroupShuffleSplit(train_size=train_size)\n",
    "    train, test = next(splitter.split(X, y, groups=group))\n",
    "    return (X.iloc[train], X.iloc[test], y.iloc[train], y.iloc[test])\n",
    "\n",
    "X_train, X_valid, y_train, y_valid = group_split(X, y, artists)\n",
    "\n",
    "X_train = preprocessor.fit_transform(X_train)\n",
    "X_valid = preprocessor.transform(X_valid)\n",
    "y_train = y_train / 100 # popularity is on a scale 0-100, so this rescales to 0-1.\n",
    "y_valid = y_valid / 100\n",
    "\n",
    "input_shape = [X_train.shape[1]]\n",
    "print(\"Input shape: {}\".format(input_shape))"
   ]
  },
  {
   "cell_type": "markdown",
   "id": "11284256",
   "metadata": {
    "papermill": {
     "duration": 0.007766,
     "end_time": "2024-10-02T15:41:43.749939",
     "exception": false,
     "start_time": "2024-10-02T15:41:43.742173",
     "status": "completed"
    },
    "tags": []
   },
   "source": [
    "Let's start with the simplest network, a linear model. This model has low capacity.\n",
    "\n",
    "Run this next cell without any changes to train a linear model on the *Spotify* dataset."
   ]
  },
  {
   "cell_type": "code",
   "execution_count": 3,
   "id": "6a0d2e41",
   "metadata": {
    "execution": {
     "iopub.execute_input": "2024-10-02T15:41:43.768716Z",
     "iopub.status.busy": "2024-10-02T15:41:43.768306Z",
     "iopub.status.idle": "2024-10-02T15:41:50.362122Z",
     "shell.execute_reply": "2024-10-02T15:41:50.361007Z"
    },
    "lines_to_next_cell": 0,
    "papermill": {
     "duration": 6.606594,
     "end_time": "2024-10-02T15:41:50.364829",
     "exception": false,
     "start_time": "2024-10-02T15:41:43.758235",
     "status": "completed"
    },
    "tags": []
   },
   "outputs": [
    {
     "name": "stdout",
     "output_type": "stream",
     "text": [
      "Minimum Validation Loss: 0.1967\n"
     ]
    },
    {
     "data": {
      "image/png": "[encoded data removed]",
      "text/plain": [
       "<Figure size 640x480 with 1 Axes>"
      ]
     },
     "metadata": {},
     "output_type": "display_data"
    }
   ],
   "source": [
    "model = keras.Sequential([\n",
    "    layers.Dense(1, input_shape=input_shape),\n",
    "])\n",
    "model.compile(\n",
    "    optimizer='adam',\n",
    "    loss='mae',\n",
    ")\n",
    "history = model.fit(\n",
    "    X_train, y_train,\n",
    "    validation_data=(X_valid, y_valid),\n",
    "    batch_size=512,\n",
    "    epochs=50,\n",
    "    verbose=0, # suppress output since we'll plot the curves\n",
    ")\n",
    "history_df = pd.DataFrame(history.history)\n",
    "history_df.loc[0:, ['loss', 'val_loss']].plot()\n",
    "print(\"Minimum Validation Loss: {:0.4f}\".format(history_df['val_loss'].min()));"
   ]
  },
  {
   "cell_type": "markdown",
   "id": "c658c583",
   "metadata": {
    "papermill": {
     "duration": 0.00805,
     "end_time": "2024-10-02T15:41:50.381098",
     "exception": false,
     "start_time": "2024-10-02T15:41:50.373048",
     "status": "completed"
    },
    "tags": []
   },
   "source": [
    "It's not uncommon for the curves to follow a \"hockey stick\" pattern like you see here. This makes the final part of training hard to see, so let's start at epoch 10 instead:"
   ]
  },
  {
   "cell_type": "code",
   "execution_count": 4,
   "id": "e6137aa2",
   "metadata": {
    "execution": {
     "iopub.execute_input": "2024-10-02T15:41:50.400235Z",
     "iopub.status.busy": "2024-10-02T15:41:50.399544Z",
     "iopub.status.idle": "2024-10-02T15:41:50.819405Z",
     "shell.execute_reply": "2024-10-02T15:41:50.818233Z"
    },
    "papermill": {
     "duration": 0.432447,
     "end_time": "2024-10-02T15:41:50.822284",
     "exception": false,
     "start_time": "2024-10-02T15:41:50.389837",
     "status": "completed"
    },
    "tags": []
   },
   "outputs": [
    {
     "name": "stdout",
     "output_type": "stream",
     "text": [
      "Minimum Validation Loss: 0.1967\n"
     ]
    },
    {
     "data": {
      "image/png": "[encoded data removed]",
      "text/plain": [
       "<Figure size 640x480 with 1 Axes>"
      ]
     },
     "metadata": {},
     "output_type": "display_data"
    }
   ],
   "source": [
    "# Start the plot at epoch 10\n",
    "history_df.loc[10:, ['loss', 'val_loss']].plot()\n",
    "print(\"Minimum Validation Loss: {:0.4f}\".format(history_df['val_loss'].min()));"
   ]
  },
  {
   "cell_type": "markdown",
   "id": "e49320e2",
   "metadata": {
    "papermill": {
     "duration": 0.009142,
     "end_time": "2024-10-02T15:41:50.841062",
     "exception": false,
     "start_time": "2024-10-02T15:41:50.831920",
     "status": "completed"
    },
    "tags": []
   },
   "source": [
    "# 1) Evaluate Baseline\n",
    "\n",
    "What do you think? Would you say this model is underfitting, overfitting, just right?"
   ]
  },
  {
   "cell_type": "code",
   "execution_count": 5,
   "id": "c15b9051",
   "metadata": {
    "execution": {
     "iopub.execute_input": "2024-10-02T15:41:50.861549Z",
     "iopub.status.busy": "2024-10-02T15:41:50.860753Z",
     "iopub.status.idle": "2024-10-02T15:41:50.869619Z",
     "shell.execute_reply": "2024-10-02T15:41:50.868597Z"
    },
    "papermill": {
     "duration": 0.021779,
     "end_time": "2024-10-02T15:41:50.872088",
     "exception": false,
     "start_time": "2024-10-02T15:41:50.850309",
     "status": "completed"
    },
    "tags": []
   },
   "outputs": [
    {
     "data": {
      "application/javascript": [
       "parent.postMessage({\"jupyterEvent\": \"custom.exercise_interaction\", \"data\": {\"outcomeType\": 1, \"valueTowardsCompletion\": 0.25, \"interactionType\": 1, \"questionType\": 4, \"questionId\": \"1_Q1\", \"learnToolsVersion\": \"0.3.4\", \"failureMessage\": \"\", \"exceptionClass\": \"\", \"trace\": \"\"}}, \"*\")"
      ],
      "text/plain": [
       "<IPython.core.display.Javascript object>"
      ]
     },
     "metadata": {},
     "output_type": "display_data"
    },
    {
     "data": {
      "text/markdown": [
       "<span style=\"color:#33cc33\">Correct:</span> \n",
       "\n",
       "The gap between these curves is quite small and the validation loss never increases, so it's more likely that the network is underfitting than overfitting. It would be worth experimenting with more capacity to see if that's the case."
      ],
      "text/plain": [
       "Correct: \n",
       "\n",
       "The gap between these curves is quite small and the validation loss never increases, so it's more likely that the network is underfitting than overfitting. It would be worth experimenting with more capacity to see if that's the case."
      ]
     },
     "metadata": {},
     "output_type": "display_data"
    }
   ],
   "source": [
    "# View the solution (Run this cell to receive credit!)\n",
    "q_1.check()"
   ]
  },
  {
   "cell_type": "markdown",
   "id": "3712d31c",
   "metadata": {
    "papermill": {
     "duration": 0.009676,
     "end_time": "2024-10-02T15:41:50.892050",
     "exception": false,
     "start_time": "2024-10-02T15:41:50.882374",
     "status": "completed"
    },
    "tags": []
   },
   "source": [
    "Now let's add some capacity to our network. We'll add three hidden layers with 128 units each. Run the next cell to train the network and see the learning curves."
   ]
  },
  {
   "cell_type": "code",
   "execution_count": 6,
   "id": "b57097ff",
   "metadata": {
    "execution": {
     "iopub.execute_input": "2024-10-02T15:41:50.913425Z",
     "iopub.status.busy": "2024-10-02T15:41:50.912746Z",
     "iopub.status.idle": "2024-10-02T15:42:01.749767Z",
     "shell.execute_reply": "2024-10-02T15:42:01.748655Z"
    },
    "papermill": {
     "duration": 10.850574,
     "end_time": "2024-10-02T15:42:01.752424",
     "exception": false,
     "start_time": "2024-10-02T15:41:50.901850",
     "status": "completed"
    },
    "tags": []
   },
   "outputs": [
    {
     "name": "stdout",
     "output_type": "stream",
     "text": [
      "Epoch 1/50\n",
      "50/50 [==============================] - 1s 6ms/step - loss: 0.2350 - val_loss: 0.2069\n",
      "Epoch 2/50\n",
      "50/50 [==============================] - 0s 4ms/step - loss: 0.2008 - val_loss: 0.2027\n",
      "Epoch 3/50\n",
      "50/50 [==============================] - 0s 4ms/step - loss: 0.1959 - val_loss: 0.1998\n",
      "Epoch 4/50\n",
      "50/50 [==============================] - 0s 4ms/step - loss: 0.1933 - val_loss: 0.1997\n",
      "Epoch 5/50\n",
      "50/50 [==============================] - 0s 4ms/step - loss: 0.1912 - val_loss: 0.1977\n",
      "Epoch 6/50\n",
      "50/50 [==============================] - 0s 4ms/step - loss: 0.1896 - val_loss: 0.1984\n",
      "Epoch 7/50\n",
      "50/50 [==============================] - 0s 4ms/step - loss: 0.1888 - val_loss: 0.1992\n",
      "Epoch 8/50\n",
      "50/50 [==============================] - 0s 4ms/step - loss: 0.1873 - val_loss: 0.1978\n",
      "Epoch 9/50\n",
      "50/50 [==============================] - 0s 4ms/step - loss: 0.1862 - val_loss: 0.1991\n",
      "Epoch 10/50\n",
      "50/50 [==============================] - 0s 4ms/step - loss: 0.1860 - val_loss: 0.1978\n",
      "Epoch 11/50\n",
      "50/50 [==============================] - 0s 4ms/step - loss: 0.1849 - val_loss: 0.1974\n",
      "Epoch 12/50\n",
      "50/50 [==============================] - 0s 4ms/step - loss: 0.1837 - val_loss: 0.1984\n",
      "Epoch 13/50\n",
      "50/50 [==============================] - 0s 4ms/step - loss: 0.1836 - val_loss: 0.1974\n",
      "Epoch 14/50\n",
      "50/50 [==============================] - 0s 4ms/step - loss: 0.1823 - val_loss: 0.1977\n",
      "Epoch 15/50\n",
      "50/50 [==============================] - 0s 4ms/step - loss: 0.1819 - val_loss: 0.1978\n",
      "Epoch 16/50\n",
      "50/50 [==============================] - 0s 4ms/step - loss: 0.1813 - val_loss: 0.1976\n",
      "Epoch 17/50\n",
      "50/50 [==============================] - 0s 4ms/step - loss: 0.1807 - val_loss: 0.1970\n",
      "Epoch 18/50\n",
      "50/50 [==============================] - 0s 4ms/step - loss: 0.1801 - val_loss: 0.1987\n",
      "Epoch 19/50\n",
      "50/50 [==============================] - 0s 4ms/step - loss: 0.1798 - val_loss: 0.1985\n",
      "Epoch 20/50\n",
      "50/50 [==============================] - 0s 4ms/step - loss: 0.1785 - val_loss: 0.1984\n",
      "Epoch 21/50\n",
      "50/50 [==============================] - 0s 4ms/step - loss: 0.1792 - val_loss: 0.1990\n",
      "Epoch 22/50\n",
      "50/50 [==============================] - 0s 4ms/step - loss: 0.1786 - val_loss: 0.1980\n",
      "Epoch 23/50\n",
      "50/50 [==============================] - 0s 4ms/step - loss: 0.1779 - val_loss: 0.1981\n",
      "Epoch 24/50\n",
      "50/50 [==============================] - 0s 4ms/step - loss: 0.1782 - val_loss: 0.1987\n",
      "Epoch 25/50\n",
      "50/50 [==============================] - 0s 4ms/step - loss: 0.1786 - val_loss: 0.1995\n",
      "Epoch 26/50\n",
      "50/50 [==============================] - 0s 4ms/step - loss: 0.1769 - val_loss: 0.1981\n",
      "Epoch 27/50\n",
      "50/50 [==============================] - 0s 4ms/step - loss: 0.1762 - val_loss: 0.1982\n",
      "Epoch 28/50\n",
      "50/50 [==============================] - 0s 4ms/step - loss: 0.1753 - val_loss: 0.1990\n",
      "Epoch 29/50\n",
      "50/50 [==============================] - 0s 3ms/step - loss: 0.1747 - val_loss: 0.1985\n",
      "Epoch 30/50\n",
      "50/50 [==============================] - 0s 3ms/step - loss: 0.1742 - val_loss: 0.1983\n",
      "Epoch 31/50\n",
      "50/50 [==============================] - 0s 4ms/step - loss: 0.1736 - val_loss: 0.1988\n",
      "Epoch 32/50\n",
      "50/50 [==============================] - 0s 4ms/step - loss: 0.1738 - val_loss: 0.2016\n",
      "Epoch 33/50\n",
      "50/50 [==============================] - 0s 4ms/step - loss: 0.1739 - val_loss: 0.1994\n",
      "Epoch 34/50\n",
      "50/50 [==============================] - 0s 4ms/step - loss: 0.1737 - val_loss: 0.1990\n",
      "Epoch 35/50\n",
      "50/50 [==============================] - 0s 4ms/step - loss: 0.1720 - val_loss: 0.1999\n",
      "Epoch 36/50\n",
      "50/50 [==============================] - 0s 4ms/step - loss: 0.1722 - val_loss: 0.2006\n",
      "Epoch 37/50\n",
      "50/50 [==============================] - 0s 4ms/step - loss: 0.1727 - val_loss: 0.1988\n",
      "Epoch 38/50\n",
      "50/50 [==============================] - 0s 4ms/step - loss: 0.1710 - val_loss: 0.1990\n",
      "Epoch 39/50\n",
      "50/50 [==============================] - 0s 4ms/step - loss: 0.1720 - val_loss: 0.2006\n",
      "Epoch 40/50\n",
      "50/50 [==============================] - 0s 4ms/step - loss: 0.1709 - val_loss: 0.1999\n",
      "Epoch 41/50\n",
      "50/50 [==============================] - 0s 4ms/step - loss: 0.1714 - val_loss: 0.2010\n",
      "Epoch 42/50\n",
      "50/50 [==============================] - 0s 4ms/step - loss: 0.1704 - val_loss: 0.2000\n",
      "Epoch 43/50\n",
      "50/50 [==============================] - 0s 4ms/step - loss: 0.1698 - val_loss: 0.2003\n",
      "Epoch 44/50\n",
      "50/50 [==============================] - 0s 4ms/step - loss: 0.1691 - val_loss: 0.2006\n",
      "Epoch 45/50\n",
      "50/50 [==============================] - 0s 4ms/step - loss: 0.1693 - val_loss: 0.2002\n",
      "Epoch 46/50\n",
      "50/50 [==============================] - 0s 4ms/step - loss: 0.1683 - val_loss: 0.2016\n",
      "Epoch 47/50\n",
      "50/50 [==============================] - 0s 4ms/step - loss: 0.1684 - val_loss: 0.2001\n",
      "Epoch 48/50\n",
      "50/50 [==============================] - 0s 4ms/step - loss: 0.1683 - val_loss: 0.2013\n",
      "Epoch 49/50\n",
      "50/50 [==============================] - 0s 4ms/step - loss: 0.1682 - val_loss: 0.2021\n",
      "Epoch 50/50\n",
      "50/50 [==============================] - 0s 4ms/step - loss: 0.1667 - val_loss: 0.2010\n",
      "Minimum Validation Loss: 0.1970\n"
     ]
    },
    {
     "data": {
      "image/png": "[encoded data removed]",
      "text/plain": [
       "<Figure size 640x480 with 1 Axes>"
      ]
     },
     "metadata": {},
     "output_type": "display_data"
    }
   ],
   "source": [
    "model = keras.Sequential([\n",
    "    layers.Dense(128, activation='relu', input_shape=input_shape),\n",
    "    layers.Dense(64, activation='relu'),\n",
    "    layers.Dense(1)\n",
    "])\n",
    "model.compile(\n",
    "    optimizer='adam',\n",
    "    loss='mae',\n",
    ")\n",
    "history = model.fit(\n",
    "    X_train, y_train,\n",
    "    validation_data=(X_valid, y_valid),\n",
    "    batch_size=512,\n",
    "    epochs=50,\n",
    ")\n",
    "history_df = pd.DataFrame(history.history)\n",
    "history_df.loc[:, ['loss', 'val_loss']].plot()\n",
    "print(\"Minimum Validation Loss: {:0.4f}\".format(history_df['val_loss'].min()));"
   ]
  },
  {
   "cell_type": "markdown",
   "id": "8d352d6e",
   "metadata": {
    "papermill": {
     "duration": 0.033314,
     "end_time": "2024-10-02T15:42:01.819335",
     "exception": false,
     "start_time": "2024-10-02T15:42:01.786021",
     "status": "completed"
    },
    "tags": []
   },
   "source": [
    "# 2) Add Capacity\n",
    "\n",
    "What is your evaluation of these curves? Underfitting, overfitting, just right?"
   ]
  },
  {
   "cell_type": "code",
   "execution_count": 7,
   "id": "4e587933",
   "metadata": {
    "execution": {
     "iopub.execute_input": "2024-10-02T15:42:01.888444Z",
     "iopub.status.busy": "2024-10-02T15:42:01.888062Z",
     "iopub.status.idle": "2024-10-02T15:42:01.897088Z",
     "shell.execute_reply": "2024-10-02T15:42:01.895998Z"
    },
    "papermill": {
     "duration": 0.04638,
     "end_time": "2024-10-02T15:42:01.899458",
     "exception": false,
     "start_time": "2024-10-02T15:42:01.853078",
     "status": "completed"
    },
    "tags": []
   },
   "outputs": [
    {
     "data": {
      "application/javascript": [
       "parent.postMessage({\"jupyterEvent\": \"custom.exercise_interaction\", \"data\": {\"outcomeType\": 1, \"valueTowardsCompletion\": 0.25, \"interactionType\": 1, \"questionType\": 4, \"questionId\": \"2_Q2\", \"learnToolsVersion\": \"0.3.4\", \"failureMessage\": \"\", \"exceptionClass\": \"\", \"trace\": \"\"}}, \"*\")"
      ],
      "text/plain": [
       "<IPython.core.display.Javascript object>"
      ]
     },
     "metadata": {},
     "output_type": "display_data"
    },
    {
     "data": {
      "text/markdown": [
       "<span style=\"color:#33cc33\">Correct:</span> \n",
       "\n",
       "Now the validation loss begins to rise very early, while the training loss continues to decrease. This indicates that the network has begun to overfit. At this point, we would need to try something to prevent it, either by reducing the number of units or through a method like early stopping. (We'll see another in the next lesson!)"
      ],
      "text/plain": [
       "Correct: \n",
       "\n",
       "Now the validation loss begins to rise very early, while the training loss continues to decrease. This indicates that the network has begun to overfit. At this point, we would need to try something to prevent it, either by reducing the number of units or through a method like early stopping. (We'll see another in the next lesson!)"
      ]
     },
     "metadata": {},
     "output_type": "display_data"
    }
   ],
   "source": [
    "# View the solution (Run this cell to receive credit!)\n",
    "q_2.check()"
   ]
  },
  {
   "cell_type": "markdown",
   "id": "8d1deabc",
   "metadata": {
    "papermill": {
     "duration": 0.03585,
     "end_time": "2024-10-02T15:42:01.969219",
     "exception": false,
     "start_time": "2024-10-02T15:42:01.933369",
     "status": "completed"
    },
    "tags": []
   },
   "source": [
    "# 3) Define Early Stopping Callback\n",
    "\n",
    "Now define an early stopping callback that waits 5 epochs (`patience'`) for a change in validation loss of at least `0.001` (`min_delta`) and keeps the weights with the best loss (`restore_best_weights`)."
   ]
  },
  {
   "cell_type": "code",
   "execution_count": 8,
   "id": "bc2f0878",
   "metadata": {
    "execution": {
     "iopub.execute_input": "2024-10-02T15:42:02.039649Z",
     "iopub.status.busy": "2024-10-02T15:42:02.039222Z",
     "iopub.status.idle": "2024-10-02T15:42:02.049602Z",
     "shell.execute_reply": "2024-10-02T15:42:02.048396Z"
    },
    "lines_to_next_cell": 0,
    "papermill": {
     "duration": 0.049138,
     "end_time": "2024-10-02T15:42:02.052280",
     "exception": false,
     "start_time": "2024-10-02T15:42:02.003142",
     "status": "completed"
    },
    "tags": []
   },
   "outputs": [
    {
     "data": {
      "application/javascript": [
       "parent.postMessage({\"jupyterEvent\": \"custom.exercise_interaction\", \"data\": {\"outcomeType\": 1, \"valueTowardsCompletion\": 0.25, \"interactionType\": 1, \"questionType\": 2, \"questionId\": \"3_Q3\", \"learnToolsVersion\": \"0.3.4\", \"failureMessage\": \"\", \"exceptionClass\": \"\", \"trace\": \"\"}}, \"*\")"
      ],
      "text/plain": [
       "<IPython.core.display.Javascript object>"
      ]
     },
     "metadata": {},
     "output_type": "display_data"
    },
    {
     "data": {
      "text/markdown": [
       "<span style=\"color:#33cc33\">Correct</span>"
      ],
      "text/plain": [
       "Correct"
      ]
     },
     "metadata": {},
     "output_type": "display_data"
    }
   ],
   "source": [
    "from tensorflow.keras import callbacks\n",
    "\n",
    "# YOUR CODE HERE: define an early stopping callback\n",
    "early_stopping = callbacks.EarlyStopping(\n",
    "    min_delta=0.001, # Minimum amout of change to count as an improvement\n",
    "    patience=5,\n",
    "    restore_best_weights=True,\n",
    ")\n",
    "\n",
    "# Check your answer\n",
    "q_3.check()"
   ]
  },
  {
   "cell_type": "code",
   "execution_count": 9,
   "id": "8bc5665f",
   "metadata": {
    "execution": {
     "iopub.execute_input": "2024-10-02T15:42:02.125547Z",
     "iopub.status.busy": "2024-10-02T15:42:02.125144Z",
     "iopub.status.idle": "2024-10-02T15:42:02.129915Z",
     "shell.execute_reply": "2024-10-02T15:42:02.128778Z"
    },
    "papermill": {
     "duration": 0.045901,
     "end_time": "2024-10-02T15:42:02.132318",
     "exception": false,
     "start_time": "2024-10-02T15:42:02.086417",
     "status": "completed"
    },
    "tags": []
   },
   "outputs": [],
   "source": [
    "# Lines below will give you a hint or solution code\n",
    "#q_3.hint()\n",
    "#q_3.solution()"
   ]
  },
  {
   "cell_type": "markdown",
   "id": "7bbf95f2",
   "metadata": {
    "papermill": {
     "duration": 0.035938,
     "end_time": "2024-10-02T15:42:02.202926",
     "exception": false,
     "start_time": "2024-10-02T15:42:02.166988",
     "status": "completed"
    },
    "tags": []
   },
   "source": [
    "Now run this cell to train the model and get the learning curves. Notice the `callbacks` argument in `model.fit`."
   ]
  },
  {
   "cell_type": "code",
   "execution_count": 10,
   "id": "df868fb4",
   "metadata": {
    "execution": {
     "iopub.execute_input": "2024-10-02T15:42:02.274323Z",
     "iopub.status.busy": "2024-10-02T15:42:02.273510Z",
     "iopub.status.idle": "2024-10-02T15:42:05.375126Z",
     "shell.execute_reply": "2024-10-02T15:42:05.373955Z"
    },
    "papermill": {
     "duration": 3.140068,
     "end_time": "2024-10-02T15:42:05.377933",
     "exception": false,
     "start_time": "2024-10-02T15:42:02.237865",
     "status": "completed"
    },
    "tags": []
   },
   "outputs": [
    {
     "name": "stdout",
     "output_type": "stream",
     "text": [
      "Epoch 1/50\n",
      "50/50 [==============================] - 1s 7ms/step - loss: 0.2177 - val_loss: 0.2046\n",
      "Epoch 2/50\n",
      "50/50 [==============================] - 0s 4ms/step - loss: 0.1977 - val_loss: 0.2020\n",
      "Epoch 3/50\n",
      "50/50 [==============================] - 0s 4ms/step - loss: 0.1939 - val_loss: 0.2020\n",
      "Epoch 4/50\n",
      "50/50 [==============================] - 0s 4ms/step - loss: 0.1916 - val_loss: 0.1983\n",
      "Epoch 5/50\n",
      "50/50 [==============================] - 0s 4ms/step - loss: 0.1899 - val_loss: 0.2004\n",
      "Epoch 6/50\n",
      "50/50 [==============================] - 0s 4ms/step - loss: 0.1887 - val_loss: 0.1994\n",
      "Epoch 7/50\n",
      "50/50 [==============================] - 0s 4ms/step - loss: 0.1875 - val_loss: 0.1990\n",
      "Epoch 8/50\n",
      "50/50 [==============================] - 0s 4ms/step - loss: 0.1863 - val_loss: 0.1988\n",
      "Epoch 9/50\n",
      "50/50 [==============================] - 0s 4ms/step - loss: 0.1850 - val_loss: 0.1991\n",
      "Minimum Validation Loss: 0.1983\n"
     ]
    },
    {
     "data": {
      "image/png": "[encoded data removed]",
      "text/plain": [
       "<Figure size 640x480 with 1 Axes>"
      ]
     },
     "metadata": {},
     "output_type": "display_data"
    }
   ],
   "source": [
    "model = keras.Sequential([\n",
    "    layers.Dense(128, activation='relu', input_shape=input_shape),\n",
    "    layers.Dense(64, activation='relu'),    \n",
    "    layers.Dense(1)\n",
    "])\n",
    "model.compile(\n",
    "    optimizer='adam',\n",
    "    loss='mae',\n",
    ")\n",
    "history = model.fit(\n",
    "    X_train, y_train,\n",
    "    validation_data=(X_valid, y_valid),\n",
    "    batch_size=512,\n",
    "    epochs=50,\n",
    "    callbacks=[early_stopping]\n",
    ")\n",
    "history_df = pd.DataFrame(history.history)\n",
    "history_df.loc[:, ['loss', 'val_loss']].plot()\n",
    "print(\"Minimum Validation Loss: {:0.4f}\".format(history_df['val_loss'].min()));"
   ]
  },
  {
   "cell_type": "markdown",
   "id": "5e1683a5",
   "metadata": {
    "papermill": {
     "duration": 0.038899,
     "end_time": "2024-10-02T15:42:05.456796",
     "exception": false,
     "start_time": "2024-10-02T15:42:05.417897",
     "status": "completed"
    },
    "tags": []
   },
   "source": [
    "# 4) Train and Interpret\n",
    "\n",
    "Was this an improvement compared to training without early stopping?"
   ]
  },
  {
   "cell_type": "code",
   "execution_count": 11,
   "id": "6c91c7a3",
   "metadata": {
    "execution": {
     "iopub.execute_input": "2024-10-02T15:42:05.538615Z",
     "iopub.status.busy": "2024-10-02T15:42:05.537328Z",
     "iopub.status.idle": "2024-10-02T15:42:05.547219Z",
     "shell.execute_reply": "2024-10-02T15:42:05.546092Z"
    },
    "papermill": {
     "duration": 0.05352,
     "end_time": "2024-10-02T15:42:05.549545",
     "exception": false,
     "start_time": "2024-10-02T15:42:05.496025",
     "status": "completed"
    },
    "tags": []
   },
   "outputs": [
    {
     "data": {
      "application/javascript": [
       "parent.postMessage({\"jupyterEvent\": \"custom.exercise_interaction\", \"data\": {\"outcomeType\": 1, \"valueTowardsCompletion\": 0.25, \"interactionType\": 1, \"questionType\": 4, \"questionId\": \"4_Q4\", \"learnToolsVersion\": \"0.3.4\", \"failureMessage\": \"\", \"exceptionClass\": \"\", \"trace\": \"\"}}, \"*\")"
      ],
      "text/plain": [
       "<IPython.core.display.Javascript object>"
      ]
     },
     "metadata": {},
     "output_type": "display_data"
    },
    {
     "data": {
      "text/markdown": [
       "<span style=\"color:#33cc33\">Correct:</span> \n",
       "\n",
       "The early stopping callback did stop the training once the network began overfitting. Moreover, by including `restore_best_weights` we still get to keep the model where validation loss was lowest."
      ],
      "text/plain": [
       "Correct: \n",
       "\n",
       "The early stopping callback did stop the training once the network began overfitting. Moreover, by including `restore_best_weights` we still get to keep the model where validation loss was lowest."
      ]
     },
     "metadata": {},
     "output_type": "display_data"
    }
   ],
   "source": [
    "# View the solution (Run this cell to receive credit!)\n",
    "q_4.check()"
   ]
  },
  {
   "cell_type": "markdown",
   "id": "9f45e012",
   "metadata": {
    "papermill": {
     "duration": 0.039014,
     "end_time": "2024-10-02T15:42:05.630040",
     "exception": false,
     "start_time": "2024-10-02T15:42:05.591026",
     "status": "completed"
    },
    "tags": []
   },
   "source": [
    "If you like, try experimenting with `patience` and `min_delta` to see what difference it might make.\n",
    "\n",
    "# Keep Going #\n",
    "\n",
    "Move on to [**learn about a couple of special layers**](https://www.kaggle.com/ryanholbrook/dropout-and-batch-normalization): batch normalization and dropout."
   ]
  },
  {
   "cell_type": "markdown",
   "id": "990bb09c",
   "metadata": {
    "papermill": {
     "duration": 0.03998,
     "end_time": "2024-10-02T15:42:05.709283",
     "exception": false,
     "start_time": "2024-10-02T15:42:05.669303",
     "status": "completed"
    },
    "tags": []
   },
   "source": [
    "---\n",
    "\n",
    "\n",
    "\n",
    "\n",
    "*Have questions or comments? Visit the [course discussion forum](https://www.kaggle.com/learn/intro-to-deep-learning/discussion) to chat with other learners.*"
   ]
  }
 ],
 "metadata": {
  "jupytext": {
   "cell_metadata_filter": "-all",
   "formats": "ipynb"
  },
  "kaggle": {
   "accelerator": "gpu",
   "dataSources": [
    {
     "datasetId": 829369,
     "sourceId": 1480608,
     "sourceType": "datasetVersion"
    }
   ],
   "dockerImageVersionId": 30648,
   "isGpuEnabled": true,
   "isInternetEnabled": false,
   "language": "python",
   "sourceType": "notebook"
  },
  "kernelspec": {
   "display_name": "Python 3",
   "language": "python",
   "name": "python3"
  },
  "language_info": {
   "codemirror_mode": {
    "name": "ipython",
    "version": 3
   },
   "file_extension": ".py",
   "mimetype": "text/x-python",
   "name": "python",
   "nbconvert_exporter": "python",
   "pygments_lexer": "ipython3",
   "version": "3.10.13"
  },
  "papermill": {
   "default_parameters": {},
   "duration": 45.55717,
   "end_time": "2024-10-02T15:42:08.196541",
   "environment_variables": {},
   "exception": null,
   "input_path": "__notebook__.ipynb",
   "output_path": "__notebook__.ipynb",
   "parameters": {},
   "start_time": "2024-10-02T15:41:22.639371",
   "version": "2.5.0"
  }
 },
 "nbformat": 4,
 "nbformat_minor": 5
}
