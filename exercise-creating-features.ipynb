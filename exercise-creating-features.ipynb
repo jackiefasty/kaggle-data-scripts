{
 "cells": [
  {
   "cell_type": "markdown",
   "id": "d144d2e1",
   "metadata": {
    "papermill": {
     "duration": 0.008625,
     "end_time": "2024-10-24T13:43:21.536209",
     "exception": false,
     "start_time": "2024-10-24T13:43:21.527584",
     "status": "completed"
    },
    "tags": []
   },
   "source": [
    "**This notebook is an exercise in the [Feature Engineering](https://www.kaggle.com/learn/feature-engineering) course.  You can reference the tutorial at [this link](https://www.kaggle.com/ryanholbrook/creating-features).**\n",
    "\n",
    "---\n"
   ]
  },
  {
   "cell_type": "markdown",
   "id": "828cdc63",
   "metadata": {
    "papermill": {
     "duration": 0.008264,
     "end_time": "2024-10-24T13:43:21.552636",
     "exception": false,
     "start_time": "2024-10-24T13:43:21.544372",
     "status": "completed"
    },
    "tags": []
   },
   "source": [
    "# Introduction #\n",
    "\n",
    "In this exercise you'll start developing the features you identified in Exercise 2 as having the most potential. As you work through this exercise, you might take a moment to look at the data documentation again and consider whether the features we're creating make sense from a real-world perspective, and whether there are any useful combinations that stand out to you.\n",
    "\n",
    "Run this cell to set everything up!"
   ]
  },
  {
   "cell_type": "code",
   "execution_count": 1,
   "id": "b014f04f",
   "metadata": {
    "execution": {
     "iopub.execute_input": "2024-10-24T13:43:21.570122Z",
     "iopub.status.busy": "2024-10-24T13:43:21.569638Z",
     "iopub.status.idle": "2024-10-24T13:43:24.461253Z",
     "shell.execute_reply": "2024-10-24T13:43:24.460035Z"
    },
    "papermill": {
     "duration": 2.904194,
     "end_time": "2024-10-24T13:43:24.464448",
     "exception": false,
     "start_time": "2024-10-24T13:43:21.560254",
     "status": "completed"
    },
    "tags": []
   },
   "outputs": [],
   "source": [
    "# Setup feedback system\n",
    "from learntools.core import binder\n",
    "binder.bind(globals())\n",
    "from learntools.feature_engineering_new.ex3 import *\n",
    "\n",
    "import numpy as np\n",
    "import pandas as pd\n",
    "from sklearn.model_selection import cross_val_score\n",
    "from xgboost import XGBRegressor\n",
    "\n",
    "\n",
    "def score_dataset(X, y, model=XGBRegressor()):\n",
    "    # Label encoding for categoricals\n",
    "    for colname in X.select_dtypes([\"category\", \"object\"]):\n",
    "        X[colname], _ = X[colname].factorize()\n",
    "    # Metric for Housing competition is RMSLE (Root Mean Squared Log Error)\n",
    "    score = cross_val_score(\n",
    "        model, X, y, cv=5, scoring=\"neg_mean_squared_log_error\",\n",
    "    )\n",
    "    score = -1 * score.mean()\n",
    "    score = np.sqrt(score)\n",
    "    return score\n",
    "\n",
    "\n",
    "# Prepare data\n",
    "df = pd.read_csv(\"../input/fe-course-data/ames.csv\")\n",
    "X = df.copy()\n",
    "y = X.pop(\"SalePrice\")"
   ]
  },
  {
   "cell_type": "markdown",
   "id": "2ebe938d",
   "metadata": {
    "papermill": {
     "duration": 0.008003,
     "end_time": "2024-10-24T13:43:24.480571",
     "exception": false,
     "start_time": "2024-10-24T13:43:24.472568",
     "status": "completed"
    },
    "tags": []
   },
   "source": [
    "-------------------------------------------------------------------------------\n",
    "\n",
    "Let's start with a few mathematical combinations. We'll focus on features describing areas -- having the same units (square-feet) makes it easy to combine them in sensible ways. Since we're using XGBoost (a tree-based model), we'll focus on ratios and sums.\n",
    "\n",
    "# 1) Create Mathematical Transforms\n",
    "\n",
    "Create the following features:\n",
    "\n",
    "- `LivLotRatio`: the ratio of `GrLivArea` to `LotArea`\n",
    "- `Spaciousness`: the sum of `FirstFlrSF` and `SecondFlrSF` divided by `TotRmsAbvGrd`\n",
    "- `TotalOutsideSF`: the sum of `WoodDeckSF`, `OpenPorchSF`, `EnclosedPorch`, `Threeseasonporch`, and `ScreenPorch`"
   ]
  },
  {
   "cell_type": "code",
   "execution_count": 2,
   "id": "69b53dff",
   "metadata": {
    "execution": {
     "iopub.execute_input": "2024-10-24T13:43:24.498854Z",
     "iopub.status.busy": "2024-10-24T13:43:24.497936Z",
     "iopub.status.idle": "2024-10-24T13:43:24.524293Z",
     "shell.execute_reply": "2024-10-24T13:43:24.522777Z"
    },
    "lines_to_next_cell": 0,
    "papermill": {
     "duration": 0.038921,
     "end_time": "2024-10-24T13:43:24.527454",
     "exception": false,
     "start_time": "2024-10-24T13:43:24.488533",
     "status": "completed"
    },
    "tags": []
   },
   "outputs": [
    {
     "data": {
      "application/javascript": [
       "parent.postMessage({\"jupyterEvent\": \"custom.exercise_interaction\", \"data\": {\"outcomeType\": 1, \"valueTowardsCompletion\": 0.2, \"interactionType\": 1, \"questionType\": 2, \"questionId\": \"1_Q1\", \"learnToolsVersion\": \"0.3.4\", \"failureMessage\": \"\", \"exceptionClass\": \"\", \"trace\": \"\"}}, \"*\")"
      ],
      "text/plain": [
       "<IPython.core.display.Javascript object>"
      ]
     },
     "metadata": {},
     "output_type": "display_data"
    },
    {
     "data": {
      "text/markdown": [
       "<span style=\"color:#33cc33\">Correct</span>"
      ],
      "text/plain": [
       "Correct"
      ]
     },
     "metadata": {},
     "output_type": "display_data"
    }
   ],
   "source": [
    "# YOUR CODE HERE\n",
    "X_1 = pd.DataFrame()  # dataframe to hold new features\n",
    "\n",
    "X_1[\"LivLotRatio\"] = df['GrLivArea'] / df['LotArea']\n",
    "X_1[\"Spaciousness\"] = (df['FirstFlrSF'] + df['SecondFlrSF']) / df['TotRmsAbvGrd']\n",
    "X_1[\"TotalOutsideSF\"] = df['WoodDeckSF'] + df['OpenPorchSF'] + df['EnclosedPorch'] + df['Threeseasonporch'] + df['ScreenPorch']\n",
    "\n",
    "# Check your answer\n",
    "q_1.check()"
   ]
  },
  {
   "cell_type": "code",
   "execution_count": 3,
   "id": "479be4f5",
   "metadata": {
    "execution": {
     "iopub.execute_input": "2024-10-24T13:43:24.546680Z",
     "iopub.status.busy": "2024-10-24T13:43:24.545503Z",
     "iopub.status.idle": "2024-10-24T13:43:24.550956Z",
     "shell.execute_reply": "2024-10-24T13:43:24.549769Z"
    },
    "lines_to_next_cell": 0,
    "papermill": {
     "duration": 0.017741,
     "end_time": "2024-10-24T13:43:24.553972",
     "exception": false,
     "start_time": "2024-10-24T13:43:24.536231",
     "status": "completed"
    },
    "tags": []
   },
   "outputs": [],
   "source": [
    "# Lines below will give you a hint or solution code\n",
    "#q_1.hint()\n",
    "#q_1.solution()"
   ]
  },
  {
   "cell_type": "markdown",
   "id": "ae0ade3c",
   "metadata": {
    "papermill": {
     "duration": 0.009501,
     "end_time": "2024-10-24T13:43:24.576094",
     "exception": false,
     "start_time": "2024-10-24T13:43:24.566593",
     "status": "completed"
    },
    "tags": []
   },
   "source": [
    "-------------------------------------------------------------------------------\n",
    "\n",
    "If you've discovered an interaction effect between a numeric feature and a categorical feature, you might want to model it explicitly using a one-hot encoding, like so:\n",
    "\n",
    "```\n",
    "# One-hot encode Categorical feature, adding a column prefix \"Cat\"\n",
    "X_new = pd.get_dummies(df.Categorical, prefix=\"Cat\")\n",
    "\n",
    "# Multiply row-by-row\n",
    "X_new = X_new.mul(df.Continuous, axis=0)\n",
    "\n",
    "# Join the new features to the feature set\n",
    "X = X.join(X_new)\n",
    "```\n",
    "\n",
    "# 2) Interaction with a Categorical\n",
    "\n",
    "We discovered an interaction between `BldgType` and `GrLivArea` in Exercise 2. Now create their interaction features."
   ]
  },
  {
   "cell_type": "code",
   "execution_count": 4,
   "id": "88250927",
   "metadata": {
    "execution": {
     "iopub.execute_input": "2024-10-24T13:43:24.594914Z",
     "iopub.status.busy": "2024-10-24T13:43:24.593792Z",
     "iopub.status.idle": "2024-10-24T13:43:24.615252Z",
     "shell.execute_reply": "2024-10-24T13:43:24.613955Z"
    },
    "lines_to_next_cell": 0,
    "papermill": {
     "duration": 0.035564,
     "end_time": "2024-10-24T13:43:24.619762",
     "exception": false,
     "start_time": "2024-10-24T13:43:24.584198",
     "status": "completed"
    },
    "tags": []
   },
   "outputs": [
    {
     "data": {
      "application/javascript": [
       "parent.postMessage({\"jupyterEvent\": \"custom.exercise_interaction\", \"data\": {\"outcomeType\": 1, \"valueTowardsCompletion\": 0.2, \"interactionType\": 1, \"questionType\": 2, \"questionId\": \"2_Q2\", \"learnToolsVersion\": \"0.3.4\", \"failureMessage\": \"\", \"exceptionClass\": \"\", \"trace\": \"\"}}, \"*\")"
      ],
      "text/plain": [
       "<IPython.core.display.Javascript object>"
      ]
     },
     "metadata": {},
     "output_type": "display_data"
    },
    {
     "data": {
      "text/markdown": [
       "<span style=\"color:#33cc33\">Correct</span>"
      ],
      "text/plain": [
       "Correct"
      ]
     },
     "metadata": {},
     "output_type": "display_data"
    }
   ],
   "source": [
    "# YOUR CODE HERE\n",
    "# One-hot encode BldgType. Use `prefix=\"Bldg\"` in `get_dummies`\n",
    "X_2 = pd.get_dummies(df.BldgType, prefix=\"Bldg\")\n",
    "\n",
    "# Multiply\n",
    "X_2 = X_2.mul(df.GrLivArea, axis=0)\n",
    "\n",
    "\n",
    "# Check your answer\n",
    "q_2.check()"
   ]
  },
  {
   "cell_type": "code",
   "execution_count": 5,
   "id": "54674567",
   "metadata": {
    "execution": {
     "iopub.execute_input": "2024-10-24T13:43:24.640940Z",
     "iopub.status.busy": "2024-10-24T13:43:24.640003Z",
     "iopub.status.idle": "2024-10-24T13:43:24.645237Z",
     "shell.execute_reply": "2024-10-24T13:43:24.643913Z"
    },
    "lines_to_next_cell": 0,
    "papermill": {
     "duration": 0.017646,
     "end_time": "2024-10-24T13:43:24.647893",
     "exception": false,
     "start_time": "2024-10-24T13:43:24.630247",
     "status": "completed"
    },
    "tags": []
   },
   "outputs": [],
   "source": [
    "# Lines below will give you a hint or solution code\n",
    "#q_2.hint()\n",
    "#q_2.solution()"
   ]
  },
  {
   "cell_type": "markdown",
   "id": "29c1640c",
   "metadata": {
    "lines_to_next_cell": 0,
    "papermill": {
     "duration": 0.008537,
     "end_time": "2024-10-24T13:43:24.664874",
     "exception": false,
     "start_time": "2024-10-24T13:43:24.656337",
     "status": "completed"
    },
    "tags": []
   },
   "source": [
    "# 3) Count Feature\n",
    "\n",
    "Let's try creating a feature that describes how many kinds of outdoor areas a dwelling has. Create a feature `PorchTypes` that counts how many of the following are greater than 0.0:\n",
    "\n",
    "```\n",
    "WoodDeckSF\n",
    "OpenPorchSF\n",
    "EnclosedPorch\n",
    "Threeseasonporch\n",
    "ScreenPorch\n",
    "```"
   ]
  },
  {
   "cell_type": "code",
   "execution_count": 6,
   "id": "24cbfed7",
   "metadata": {
    "execution": {
     "iopub.execute_input": "2024-10-24T13:43:24.684200Z",
     "iopub.status.busy": "2024-10-24T13:43:24.683664Z",
     "iopub.status.idle": "2024-10-24T13:43:24.707909Z",
     "shell.execute_reply": "2024-10-24T13:43:24.706729Z"
    },
    "lines_to_next_cell": 0,
    "papermill": {
     "duration": 0.038243,
     "end_time": "2024-10-24T13:43:24.711408",
     "exception": false,
     "start_time": "2024-10-24T13:43:24.673165",
     "status": "completed"
    },
    "tags": []
   },
   "outputs": [
    {
     "data": {
      "application/javascript": [
       "parent.postMessage({\"jupyterEvent\": \"custom.exercise_interaction\", \"data\": {\"outcomeType\": 1, \"valueTowardsCompletion\": 0.2, \"interactionType\": 1, \"questionType\": 2, \"questionId\": \"3_Q3\", \"learnToolsVersion\": \"0.3.4\", \"failureMessage\": \"\", \"exceptionClass\": \"\", \"trace\": \"\"}}, \"*\")"
      ],
      "text/plain": [
       "<IPython.core.display.Javascript object>"
      ]
     },
     "metadata": {},
     "output_type": "display_data"
    },
    {
     "data": {
      "text/markdown": [
       "<span style=\"color:#33cc33\">Correct</span>"
      ],
      "text/plain": [
       "Correct"
      ]
     },
     "metadata": {},
     "output_type": "display_data"
    }
   ],
   "source": [
    "X_3 = pd.DataFrame()\n",
    "\n",
    "# YOUR CODE HERE\n",
    "X_3[\"PorchTypes\"] = df[[\n",
    "    \"WoodDeckSF\",\n",
    "    \"OpenPorchSF\",\n",
    "    \"EnclosedPorch\",\n",
    "    \"Threeseasonporch\",\n",
    "    \"ScreenPorch\",\n",
    "]].gt(0.0).sum(axis=1)\n",
    "\n",
    "# Check your answer\n",
    "q_3.check()"
   ]
  },
  {
   "cell_type": "code",
   "execution_count": 7,
   "id": "2440cfb9",
   "metadata": {
    "execution": {
     "iopub.execute_input": "2024-10-24T13:43:24.736637Z",
     "iopub.status.busy": "2024-10-24T13:43:24.735672Z",
     "iopub.status.idle": "2024-10-24T13:43:24.740710Z",
     "shell.execute_reply": "2024-10-24T13:43:24.739515Z"
    },
    "lines_to_next_cell": 0,
    "papermill": {
     "duration": 0.019366,
     "end_time": "2024-10-24T13:43:24.743859",
     "exception": false,
     "start_time": "2024-10-24T13:43:24.724493",
     "status": "completed"
    },
    "tags": []
   },
   "outputs": [],
   "source": [
    "# Lines below will give you a hint or solution code\n",
    "#q_3.hint()\n",
    "#q_3.solution()"
   ]
  },
  {
   "cell_type": "markdown",
   "id": "0f713722",
   "metadata": {
    "papermill": {
     "duration": 0.012041,
     "end_time": "2024-10-24T13:43:24.768220",
     "exception": false,
     "start_time": "2024-10-24T13:43:24.756179",
     "status": "completed"
    },
    "tags": []
   },
   "source": [
    "# 4) Break Down a Categorical Feature\n",
    "\n",
    "`MSSubClass` describes the type of a dwelling:"
   ]
  },
  {
   "cell_type": "code",
   "execution_count": 8,
   "id": "04b818c1",
   "metadata": {
    "execution": {
     "iopub.execute_input": "2024-10-24T13:43:24.788511Z",
     "iopub.status.busy": "2024-10-24T13:43:24.787150Z",
     "iopub.status.idle": "2024-10-24T13:43:24.796768Z",
     "shell.execute_reply": "2024-10-24T13:43:24.795359Z"
    },
    "papermill": {
     "duration": 0.0223,
     "end_time": "2024-10-24T13:43:24.799419",
     "exception": false,
     "start_time": "2024-10-24T13:43:24.777119",
     "status": "completed"
    },
    "tags": []
   },
   "outputs": [
    {
     "data": {
      "text/plain": [
       "array(['One_Story_1946_and_Newer_All_Styles', 'Two_Story_1946_and_Newer',\n",
       "       'One_Story_PUD_1946_and_Newer',\n",
       "       'One_and_Half_Story_Finished_All_Ages', 'Split_Foyer',\n",
       "       'Two_Story_PUD_1946_and_Newer', 'Split_or_Multilevel',\n",
       "       'One_Story_1945_and_Older', 'Duplex_All_Styles_and_Ages',\n",
       "       'Two_Family_conversion_All_Styles_and_Ages',\n",
       "       'One_and_Half_Story_Unfinished_All_Ages',\n",
       "       'Two_Story_1945_and_Older', 'Two_and_Half_Story_All_Ages',\n",
       "       'One_Story_with_Finished_Attic_All_Ages',\n",
       "       'PUD_Multilevel_Split_Level_Foyer',\n",
       "       'One_and_Half_Story_PUD_All_Ages'], dtype=object)"
      ]
     },
     "execution_count": 8,
     "metadata": {},
     "output_type": "execute_result"
    }
   ],
   "source": [
    "df.MSSubClass.unique()"
   ]
  },
  {
   "cell_type": "markdown",
   "id": "98b56990",
   "metadata": {
    "papermill": {
     "duration": 0.009064,
     "end_time": "2024-10-24T13:43:24.817311",
     "exception": false,
     "start_time": "2024-10-24T13:43:24.808247",
     "status": "completed"
    },
    "tags": []
   },
   "source": [
    "You can see that there is a more general categorization described (roughly) by the first word of each category. Create a feature containing only these first words by splitting `MSSubClass` at the first underscore `_`. (Hint: In the `split` method use an argument `n=1`.)"
   ]
  },
  {
   "cell_type": "code",
   "execution_count": 9,
   "id": "7de94df2",
   "metadata": {
    "execution": {
     "iopub.execute_input": "2024-10-24T13:43:24.836996Z",
     "iopub.status.busy": "2024-10-24T13:43:24.836527Z",
     "iopub.status.idle": "2024-10-24T13:43:24.869057Z",
     "shell.execute_reply": "2024-10-24T13:43:24.866503Z"
    },
    "lines_to_next_cell": 0,
    "papermill": {
     "duration": 0.047011,
     "end_time": "2024-10-24T13:43:24.873126",
     "exception": false,
     "start_time": "2024-10-24T13:43:24.826115",
     "status": "completed"
    },
    "tags": []
   },
   "outputs": [
    {
     "data": {
      "application/javascript": [
       "parent.postMessage({\"jupyterEvent\": \"custom.exercise_interaction\", \"data\": {\"outcomeType\": 1, \"valueTowardsCompletion\": 0.2, \"interactionType\": 1, \"questionType\": 2, \"questionId\": \"4_Q4\", \"learnToolsVersion\": \"0.3.4\", \"failureMessage\": \"\", \"exceptionClass\": \"\", \"trace\": \"\"}}, \"*\")"
      ],
      "text/plain": [
       "<IPython.core.display.Javascript object>"
      ]
     },
     "metadata": {},
     "output_type": "display_data"
    },
    {
     "data": {
      "text/markdown": [
       "<span style=\"color:#33cc33\">Correct</span>"
      ],
      "text/plain": [
       "Correct"
      ]
     },
     "metadata": {},
     "output_type": "display_data"
    }
   ],
   "source": [
    "X_4 = pd.DataFrame()\n",
    "\n",
    "# YOUR CODE HERE\n",
    "X_4[\"MSClass\"] = df.MSSubClass.str.split(\"_\", expand=True)[0]\n",
    "\n",
    "# Check your answer\n",
    "q_4.check()"
   ]
  },
  {
   "cell_type": "code",
   "execution_count": 10,
   "id": "8fd436c0",
   "metadata": {
    "execution": {
     "iopub.execute_input": "2024-10-24T13:43:24.894837Z",
     "iopub.status.busy": "2024-10-24T13:43:24.893808Z",
     "iopub.status.idle": "2024-10-24T13:43:24.899321Z",
     "shell.execute_reply": "2024-10-24T13:43:24.897917Z"
    },
    "lines_to_next_cell": 0,
    "papermill": {
     "duration": 0.019152,
     "end_time": "2024-10-24T13:43:24.901968",
     "exception": false,
     "start_time": "2024-10-24T13:43:24.882816",
     "status": "completed"
    },
    "tags": []
   },
   "outputs": [],
   "source": [
    "# Lines below will give you a hint or solution code\n",
    "#q_4.hint()\n",
    "#q_4.solution()"
   ]
  },
  {
   "cell_type": "markdown",
   "id": "d5da8fcc",
   "metadata": {
    "papermill": {
     "duration": 0.010351,
     "end_time": "2024-10-24T13:43:24.921935",
     "exception": false,
     "start_time": "2024-10-24T13:43:24.911584",
     "status": "completed"
    },
    "tags": []
   },
   "source": [
    "# 5) Use a Grouped Transform\n",
    "\n",
    "The value of a home often depends on how it compares to typical homes in its neighborhood. Create a feature `MedNhbdArea` that describes the *median* of `GrLivArea` grouped on `Neighborhood`."
   ]
  },
  {
   "cell_type": "code",
   "execution_count": 11,
   "id": "2b400e26",
   "metadata": {
    "execution": {
     "iopub.execute_input": "2024-10-24T13:43:24.942589Z",
     "iopub.status.busy": "2024-10-24T13:43:24.942175Z",
     "iopub.status.idle": "2024-10-24T13:43:24.963430Z",
     "shell.execute_reply": "2024-10-24T13:43:24.961860Z"
    },
    "lines_to_next_cell": 0,
    "papermill": {
     "duration": 0.035249,
     "end_time": "2024-10-24T13:43:24.966511",
     "exception": false,
     "start_time": "2024-10-24T13:43:24.931262",
     "status": "completed"
    },
    "tags": []
   },
   "outputs": [
    {
     "data": {
      "application/javascript": [
       "parent.postMessage({\"jupyterEvent\": \"custom.exercise_interaction\", \"data\": {\"outcomeType\": 1, \"valueTowardsCompletion\": 0.2, \"interactionType\": 1, \"questionType\": 2, \"questionId\": \"5_Q5\", \"learnToolsVersion\": \"0.3.4\", \"failureMessage\": \"\", \"exceptionClass\": \"\", \"trace\": \"\"}}, \"*\")"
      ],
      "text/plain": [
       "<IPython.core.display.Javascript object>"
      ]
     },
     "metadata": {},
     "output_type": "display_data"
    },
    {
     "data": {
      "text/markdown": [
       "<span style=\"color:#33cc33\">Correct</span>"
      ],
      "text/plain": [
       "Correct"
      ]
     },
     "metadata": {},
     "output_type": "display_data"
    }
   ],
   "source": [
    "X_5 = pd.DataFrame()\n",
    "\n",
    "# YOUR CODE HERE\n",
    "X_5[\"MedNhbdArea\"] = df.groupby(\"Neighborhood\")[\"GrLivArea\"].transform(\"median\")\n",
    "\n",
    "# Check your answer\n",
    "q_5.check()"
   ]
  },
  {
   "cell_type": "code",
   "execution_count": 12,
   "id": "fde88662",
   "metadata": {
    "execution": {
     "iopub.execute_input": "2024-10-24T13:43:24.988292Z",
     "iopub.status.busy": "2024-10-24T13:43:24.987887Z",
     "iopub.status.idle": "2024-10-24T13:43:24.993110Z",
     "shell.execute_reply": "2024-10-24T13:43:24.991565Z"
    },
    "lines_to_next_cell": 0,
    "papermill": {
     "duration": 0.019728,
     "end_time": "2024-10-24T13:43:24.995863",
     "exception": false,
     "start_time": "2024-10-24T13:43:24.976135",
     "status": "completed"
    },
    "tags": []
   },
   "outputs": [],
   "source": [
    "# Lines below will give you a hint or solution code\n",
    "#q_5.hint()\n",
    "#q_5.solution()"
   ]
  },
  {
   "cell_type": "markdown",
   "id": "586a3ebf",
   "metadata": {
    "papermill": {
     "duration": 0.009689,
     "end_time": "2024-10-24T13:43:25.015709",
     "exception": false,
     "start_time": "2024-10-24T13:43:25.006020",
     "status": "completed"
    },
    "tags": []
   },
   "source": [
    "Now you've made your first new feature set! If you like, you can run the cell below to score the model with all of your new features added:"
   ]
  },
  {
   "cell_type": "code",
   "execution_count": 13,
   "id": "46f4426a",
   "metadata": {
    "execution": {
     "iopub.execute_input": "2024-10-24T13:43:25.036589Z",
     "iopub.status.busy": "2024-10-24T13:43:25.036133Z",
     "iopub.status.idle": "2024-10-24T13:43:27.970888Z",
     "shell.execute_reply": "2024-10-24T13:43:27.969627Z"
    },
    "papermill": {
     "duration": 2.948613,
     "end_time": "2024-10-24T13:43:27.973929",
     "exception": false,
     "start_time": "2024-10-24T13:43:25.025316",
     "status": "completed"
    },
    "tags": []
   },
   "outputs": [
    {
     "data": {
      "text/plain": [
       "0.13954039591355258"
      ]
     },
     "execution_count": 13,
     "metadata": {},
     "output_type": "execute_result"
    }
   ],
   "source": [
    "X_new = X.join([X_1, X_2, X_3, X_4, X_5])\n",
    "score_dataset(X_new, y)"
   ]
  },
  {
   "cell_type": "markdown",
   "id": "7836972f",
   "metadata": {
    "papermill": {
     "duration": 0.009378,
     "end_time": "2024-10-24T13:43:27.993806",
     "exception": false,
     "start_time": "2024-10-24T13:43:27.984428",
     "status": "completed"
    },
    "tags": []
   },
   "source": [
    "# Keep Going #\n",
    "\n",
    "[**Untangle spatial relationships**](https://www.kaggle.com/ryanholbrook/clustering-with-k-means) by adding cluster labels to your dataset."
   ]
  },
  {
   "cell_type": "markdown",
   "id": "c39f205c",
   "metadata": {
    "papermill": {
     "duration": 0.009103,
     "end_time": "2024-10-24T13:43:28.012410",
     "exception": false,
     "start_time": "2024-10-24T13:43:28.003307",
     "status": "completed"
    },
    "tags": []
   },
   "source": [
    "---\n",
    "\n",
    "\n",
    "\n",
    "\n",
    "*Have questions or comments? Visit the [course discussion forum](https://www.kaggle.com/learn/feature-engineering/discussion) to chat with other learners.*"
   ]
  }
 ],
 "metadata": {
  "jupytext": {
   "cell_metadata_filter": "-all",
   "formats": "ipynb"
  },
  "kaggle": {
   "accelerator": "none",
   "dataSources": [
    {
     "datasetId": 933090,
     "sourceId": 1828856,
     "sourceType": "datasetVersion"
    }
   ],
   "isGpuEnabled": false,
   "isInternetEnabled": false,
   "language": "python",
   "sourceType": "notebook"
  },
  "kernelspec": {
   "display_name": "Python 3",
   "language": "python",
   "name": "python3"
  },
  "language_info": {
   "codemirror_mode": {
    "name": "ipython",
    "version": 3
   },
   "file_extension": ".py",
   "mimetype": "text/x-python",
   "name": "python",
   "nbconvert_exporter": "python",
   "pygments_lexer": "ipython3",
   "version": "3.10.14"
  },
  "papermill": {
   "default_parameters": {},
   "duration": 10.406458,
   "end_time": "2024-10-24T13:43:28.744066",
   "environment_variables": {},
   "exception": null,
   "input_path": "__notebook__.ipynb",
   "output_path": "__notebook__.ipynb",
   "parameters": {},
   "start_time": "2024-10-24T13:43:18.337608",
   "version": "2.6.0"
  }
 },
 "nbformat": 4,
 "nbformat_minor": 5
}
